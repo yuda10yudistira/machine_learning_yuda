{
  "nbformat": 4,
  "nbformat_minor": 0,
  "metadata": {
    "colab": {
      "private_outputs": true,
      "provenance": []
    },
    "kernelspec": {
      "name": "python3",
      "display_name": "Python 3"
    },
    "language_info": {
      "name": "python"
    }
  },
  "cells": [
    {
      "cell_type": "code",
      "execution_count": null,
      "metadata": {
        "id": "biMyi_-AgDE9"
      },
      "outputs": [],
      "source": [
        "from google.colab import drive \n",
        "drive.mount('/content/drive')"
      ]
    },
    {
      "cell_type": "code",
      "source": [
        "import pandas as pd \n",
        "\n",
        "path = '/content/drive/MyDrive/csv/data-jadi - Sheet1.csv'\n",
        "\n",
        "df =pd.read_csv(path)\n",
        "\n",
        "df.describe()"
      ],
      "metadata": {
        "id": "1OOeTA_xh3EX"
      },
      "execution_count": null,
      "outputs": []
    },
    {
      "cell_type": "code",
      "source": [
        "df.info()"
      ],
      "metadata": {
        "id": "3jppq5a8iLmA"
      },
      "execution_count": null,
      "outputs": []
    },
    {
      "cell_type": "code",
      "source": [
        "df"
      ],
      "metadata": {
        "id": "SjVX7xn3iQDb"
      },
      "execution_count": null,
      "outputs": []
    },
    {
      "cell_type": "code",
      "source": [
        "import matplotlib.pyplot as plt \n",
        "\n",
        "df.plot(kind='scatter', x='rencana_penerimaan', y='luas_area')\n",
        "\n",
        "plt.title('lingkungan')\n",
        "plt.xlabel('rencana_penerimaan')\n",
        "plt.ylabel('luas_area')\n",
        "plt.xlim(0, 10000)\n",
        "plt.ylim(0, 1000)\n",
        "plt.grid(True)\n",
        "plt.show()"
      ],
      "metadata": {
        "id": "R46iE_tRiUxj"
      },
      "execution_count": null,
      "outputs": []
    },
    {
      "cell_type": "code",
      "source": [
        "import numpy as np\n",
        "x = np.array(df['rencana_penerimaan']) \n",
        "y = np.array(df['luas_area']) \n",
        "\n",
        "print(f'x : {x}') \n",
        "print(f'y : {y}')"
      ],
      "metadata": {
        "id": "T4T5ehp4jA4y"
      },
      "execution_count": null,
      "outputs": []
    },
    {
      "cell_type": "code",
      "source": [
        "x = x.reshape(-1, 1)\n",
        "x.shape"
      ],
      "metadata": {
        "id": "e9TT2tLOlxKn"
      },
      "execution_count": null,
      "outputs": []
    },
    {
      "cell_type": "code",
      "source": [
        "x"
      ],
      "metadata": {
        "id": "DP4MDO5Ol2O-"
      },
      "execution_count": null,
      "outputs": []
    },
    {
      "cell_type": "code",
      "source": [
        "from sklearn.linear_model import LinearRegression \n",
        "\n",
        "model = LinearRegression() \n",
        "model.fit(x, y) "
      ],
      "metadata": {
        "id": "tSeyk7C0l6OI"
      },
      "execution_count": null,
      "outputs": []
    },
    {
      "cell_type": "code",
      "source": [
        "x_vis = np.array([0, 10000 ]).reshape(-1, 1) \n",
        "y_vis = model.predict(x_vis) "
      ],
      "metadata": {
        "id": "RJjJLMMnmBxH"
      },
      "execution_count": null,
      "outputs": []
    },
    {
      "cell_type": "code",
      "source": [
        "plt.scatter(x ,y)\n",
        "plt.plot(x_vis, y_vis, '-r')\n",
        "plt.title('lingkungan')\n",
        "plt.xlabel('rencana_penerimaan')\n",
        "plt.ylabel('luas_area')\n",
        "plt.xlim(0, 10000) \n",
        "plt.ylim(0, 1000)\n",
        "plt.grid(True)\n",
        "plt.show()"
      ],
      "metadata": {
        "id": "5MUJmPQZmNIM"
      },
      "execution_count": null,
      "outputs": []
    },
    {
      "cell_type": "code",
      "source": [
        "df['rencana_penerimaan'].sum()"
      ],
      "metadata": {
        "id": "HK8VFJMXvaR2"
      },
      "execution_count": null,
      "outputs": []
    },
    {
      "cell_type": "code",
      "source": [
        "df['luas_area'].sum()"
      ],
      "metadata": {
        "id": "IXg6svtNQmRm"
      },
      "execution_count": null,
      "outputs": []
    },
    {
      "cell_type": "code",
      "source": [
        "fig = plt.figure()\n",
        "ax = fig.add_axes([0,0,1,1])\n",
        "indeks = ('rencana_penerimaan', 'luas_area')\n",
        "jumlah = (228582, 10362)\n",
        "c = ['blue','red','yellow','purple','black']\n",
        "plt.title(\"Tabel Indeks Kesejahteraan Warga\")\n",
        "plt.xlabel(\"rencana_penerimaan\")\n",
        "plt.ylabel(\"luas_area\")\n",
        "plt.bar(indeks, jumlah, color = c)\n",
        "plt.grid(True)\n",
        "plt.show()"
      ],
      "metadata": {
        "id": "TMU4VLlpmc0h"
      },
      "execution_count": null,
      "outputs": []
    },
    {
      "cell_type": "code",
      "source": [
        "fig = plt.figure()\n",
        "ax = fig.add_axes([0,0,1,1])\n",
        "ax.axis('equal')\n",
        "plt.xlabel(\"rencana_penerimaan\")\n",
        "plt.ylabel(\"perusahaan\")\n",
        "ax.pie(jumlah,labels=indeks,autopct='%1.2f%%') \n",
        "plt.show() \n",
        "plt.show()    \n"
      ],
      "metadata": {
        "id": "_mnQZ3fZon4r"
      },
      "execution_count": null,
      "outputs": []
    },
    {
      "cell_type": "code",
      "source": [
        "print(f'intercept : {model.intercept_}')\n",
        "print(f'slope : {model.coef_}')"
      ],
      "metadata": {
        "id": "44bAGmOFvM8b"
      },
      "execution_count": null,
      "outputs": []
    },
    {
      "cell_type": "code",
      "source": [
        "jml_penduduk = np.array([2330, 5200, 8800, 3200, 1200]).reshape(-1, 1)\n",
        "jml_penduduk"
      ],
      "metadata": {
        "id": "XZkpuRCNvOWG"
      },
      "execution_count": null,
      "outputs": []
    },
    {
      "cell_type": "code",
      "source": [
        "prediksi_indeks = model.predict(jml_penduduk)\n",
        "prediksi_indeks"
      ],
      "metadata": {
        "id": "uzPaK41VvSp2"
      },
      "execution_count": null,
      "outputs": []
    },
    {
      "cell_type": "code",
      "source": [
        "for penduduk, index in zip(jml_penduduk, prediksi_indeks):\n",
        "  print(f'Jumlah Penduduk : {penduduk} prediksi indeks : {index}')"
      ],
      "metadata": {
        "id": "Z8WWlgBxvWRN"
      },
      "execution_count": null,
      "outputs": []
    },
    {
      "cell_type": "code",
      "source": [],
      "metadata": {
        "id": "6dwkzXPYRevu"
      },
      "execution_count": null,
      "outputs": []
    }
  ]
}
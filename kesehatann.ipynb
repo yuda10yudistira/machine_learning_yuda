{
  "nbformat": 4,
  "nbformat_minor": 0,
  "metadata": {
    "colab": {
      "private_outputs": true,
      "provenance": []
    },
    "kernelspec": {
      "name": "python3",
      "display_name": "Python 3"
    },
    "language_info": {
      "name": "python"
    }
  },
  "cells": [
    {
      "cell_type": "code",
      "execution_count": null,
      "metadata": {
        "id": "bBSWUFaM2Cm8"
      },
      "outputs": [],
      "source": [
        "from google.colab import drive \n",
        "drive.mount('/content/drive')"
      ]
    },
    {
      "cell_type": "code",
      "source": [
        "import pandas as pd \n",
        "\n",
        "path = '/content/drive/MyDrive/csv/kesehatan - Sheet1 (1).csv'\n",
        "\n",
        "df =pd.read_csv(path)\n",
        "\n",
        "df.describe()"
      ],
      "metadata": {
        "id": "KAUkjii42kyD"
      },
      "execution_count": null,
      "outputs": []
    },
    {
      "cell_type": "code",
      "source": [
        "df.info()"
      ],
      "metadata": {
        "id": "J-7B6p9K2u2t"
      },
      "execution_count": null,
      "outputs": []
    },
    {
      "cell_type": "code",
      "source": [
        "df"
      ],
      "metadata": {
        "id": "_Iwxeb4S2xwf"
      },
      "execution_count": null,
      "outputs": []
    },
    {
      "cell_type": "code",
      "source": [
        "import matplotlib.pyplot as plt \n",
        "\n",
        "df.plot(kind='scatter', x='jumlah', y='jumlah_bayi')\n",
        "\n",
        "plt.title('kesehatan')\n",
        "plt.xlabel('jumlah')\n",
        "plt.ylabel('jumlah_bayi')\n",
        "plt.xlim(0, 600)\n",
        "plt.ylim(0, 50025)\n",
        "plt.grid(True)\n",
        "plt.show()"
      ],
      "metadata": {
        "id": "WlK8Ntjy2y1f"
      },
      "execution_count": null,
      "outputs": []
    },
    {
      "cell_type": "code",
      "source": [
        "import numpy as np\n",
        "x = np.array(df['jumlah_bayi']) \n",
        "y = np.array(df['jumlah'])\n",
        "\n",
        "print(f'x : {x}') \n",
        "print(f'y : {y}') "
      ],
      "metadata": {
        "id": "472LbjFG7PQo"
      },
      "execution_count": null,
      "outputs": []
    },
    {
      "cell_type": "code",
      "source": [
        "x = x.reshape(-1, 1)\n",
        "x.shape"
      ],
      "metadata": {
        "id": "SeTxB7WNX-0L"
      },
      "execution_count": null,
      "outputs": []
    },
    {
      "cell_type": "code",
      "source": [
        "x"
      ],
      "metadata": {
        "id": "6NIBUr5iYIpn"
      },
      "execution_count": null,
      "outputs": []
    },
    {
      "cell_type": "code",
      "source": [
        "from sklearn.linear_model import LinearRegression \n",
        "\n",
        "model = LinearRegression() \n",
        "model.fit(x, y) "
      ],
      "metadata": {
        "id": "aDPioCkWYKi4"
      },
      "execution_count": null,
      "outputs": []
    },
    {
      "cell_type": "code",
      "source": [
        "x_vis = np.array([0, 50025 ]).reshape(-1, 1) \n",
        "y_vis = model.predict(x_vis)"
      ],
      "metadata": {
        "id": "AoiS7ibMYRJB"
      },
      "execution_count": null,
      "outputs": []
    },
    {
      "cell_type": "code",
      "source": [
        "plt.scatter(x ,y)\n",
        "plt.plot(x_vis, y_vis, '-r')\n",
        "plt.title('kesehatan')\n",
        "plt.xlabel('jumlah_bayi')\n",
        "plt.ylabel('jumlah')\n",
        "plt.xlim(0, 50000) #untuk membuat batas pada visulisai x\n",
        "plt.ylim(0, 1000) #untuk membuat batas pada visulisasi y\n",
        "plt.grid(True)\n",
        "plt.show()"
      ],
      "metadata": {
        "id": "L-ustQflYRxq"
      },
      "execution_count": null,
      "outputs": []
    },
    {
      "cell_type": "code",
      "source": [
        "df['jumlah_bayi'].sum()"
      ],
      "metadata": {
        "id": "NiSXNDacYmd5"
      },
      "execution_count": null,
      "outputs": []
    },
    {
      "cell_type": "code",
      "source": [
        "df['jumlah'].sum()"
      ],
      "metadata": {
        "id": "n3HnT3BDagNx"
      },
      "execution_count": null,
      "outputs": []
    },
    {
      "cell_type": "code",
      "source": [
        "fig = plt.figure()\n",
        "ax = fig.add_axes([0,0,1,1])\n",
        "indeks = ('jumlah_bayi', 'jumlah')\n",
        "jumlah = (793066, 12154)\n",
        "c = ['blue','red','yellow','purple','black']\n",
        "plt.title(\"kesehatan\")\n",
        "plt.xlabel(\"jumlah_bayi\")\n",
        "plt.ylabel(\"jumlah\")\n",
        "plt.bar(indeks, jumlah, color = c)\n",
        "plt.grid(True)\n",
        "plt.show()"
      ],
      "metadata": {
        "id": "LKMjOajYakPr"
      },
      "execution_count": null,
      "outputs": []
    },
    {
      "cell_type": "code",
      "source": [
        "fig = plt.figure()\n",
        "ax = fig.add_axes([0,0,1,1])\n",
        "ax.axis('equal')\n",
        "plt.xlabel(\"jumlah_bayi\")\n",
        "plt.ylabel(\"jumlah\")\n",
        "ax.pie(jumlah,labels=indeks,autopct='%1.2f%%') \n",
        "plt.show() \n",
        "plt.show()    \n"
      ],
      "metadata": {
        "id": "A1gzU19_bXlQ"
      },
      "execution_count": null,
      "outputs": []
    },
    {
      "cell_type": "code",
      "source": [
        "print(f'intercept : {model.intercept_}')\n",
        "print(f'slope : {model.coef_}')"
      ],
      "metadata": {
        "id": "c75EO2wIcI5e"
      },
      "execution_count": null,
      "outputs": []
    },
    {
      "cell_type": "code",
      "source": [
        "#predeksi sample data\n",
        "jml_penduduk = np.array([2330, 5200, 8800, 3200, 1200]).reshape(-1, 1)\n",
        "jml_penduduk"
      ],
      "metadata": {
        "id": "JNdoUHDqcJ6m"
      },
      "execution_count": null,
      "outputs": []
    },
    {
      "cell_type": "code",
      "source": [
        "prediksi_indeks = model.predict(jml_penduduk)\n",
        "prediksi_indeks"
      ],
      "metadata": {
        "id": "vJ_hW-aZcL3Q"
      },
      "execution_count": null,
      "outputs": []
    },
    {
      "cell_type": "code",
      "source": [
        "for penduduk, index in zip(jml_penduduk, prediksi_indeks):\n",
        "  print(f'Jumlah Penduduk : {penduduk} prediksi indeks : {index}')"
      ],
      "metadata": {
        "id": "vzN4R04Rccn6"
      },
      "execution_count": null,
      "outputs": []
    }
  ]
}
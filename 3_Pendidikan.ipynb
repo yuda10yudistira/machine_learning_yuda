{
  "nbformat": 4,
  "nbformat_minor": 0,
  "metadata": {
    "colab": {
      "private_outputs": true,
      "provenance": []
    },
    "kernelspec": {
      "name": "python3",
      "display_name": "Python 3"
    },
    "language_info": {
      "name": "python"
    }
  },
  "cells": [
    {
      "cell_type": "code",
      "execution_count": null,
      "metadata": {
        "id": "kit5w5L5PoJf"
      },
      "outputs": [],
      "source": [
        "from google.colab import drive\n",
        "drive.mount('/content/drive')"
      ]
    },
    {
      "cell_type": "code",
      "source": [
        "import pandas as pd \n",
        "\n",
        "path = '/content/drive/MyDrive/csv/pendidikan - Sheet1.csv'\n",
        "\n",
        "df =pd.read_csv(path)\n",
        "\n",
        "df.describe()"
      ],
      "metadata": {
        "id": "kU2FT9Ik--hl"
      },
      "execution_count": null,
      "outputs": []
    },
    {
      "cell_type": "code",
      "source": [
        "df.info()"
      ],
      "metadata": {
        "id": "3T8P7ziF_JkV"
      },
      "execution_count": null,
      "outputs": []
    },
    {
      "cell_type": "code",
      "source": [
        "df"
      ],
      "metadata": {
        "id": "K2ARmo7w_PtI"
      },
      "execution_count": null,
      "outputs": []
    },
    {
      "cell_type": "code",
      "source": [
        "import matplotlib.pyplot as plt \n",
        "\n",
        "df.plot(kind='scatter', x='jumlah', y='triwulan')\n",
        "\n",
        "plt.title('lingkungan')\n",
        "plt.xlabel('jumlah')\n",
        "plt.ylabel('nama_kota')\n",
        "plt.xlim(0, 900)\n",
        "plt.ylim(0, 98)\n",
        "plt.grid(True)\n",
        "plt.show()"
      ],
      "metadata": {
        "id": "6_ujV-kC_Qpu"
      },
      "execution_count": null,
      "outputs": []
    },
    {
      "cell_type": "code",
      "source": [
        "import numpy as np\n",
        "x = np.array(df['jumlah']) \n",
        "y = np.array(df['triwulan']) \n",
        "\n",
        "print(f'x : {x}') \n",
        "print(f'y : {y}') "
      ],
      "metadata": {
        "id": "8SGxlaraALYM"
      },
      "execution_count": null,
      "outputs": []
    },
    {
      "cell_type": "code",
      "source": [
        "x = x.reshape(-1, 1)\n",
        "x.shape"
      ],
      "metadata": {
        "id": "kmbZdeMDAMWb"
      },
      "execution_count": null,
      "outputs": []
    },
    {
      "cell_type": "code",
      "source": [
        "x"
      ],
      "metadata": {
        "id": "ZDHnTT_zATyA"
      },
      "execution_count": null,
      "outputs": []
    },
    {
      "cell_type": "code",
      "source": [
        "from sklearn.linear_model import LinearRegression\n",
        "\n",
        "model = LinearRegression() \n",
        "model.fit(x, y) \n"
      ],
      "metadata": {
        "id": "YXCxCpZ7AUXF"
      },
      "execution_count": null,
      "outputs": []
    },
    {
      "cell_type": "code",
      "source": [
        "x_vis = np.array([0, 900 ]).reshape(-1, 1) \n",
        "y_vis = model.predict(x_vis) "
      ],
      "metadata": {
        "id": "6qgFhWASAZgD"
      },
      "execution_count": null,
      "outputs": []
    },
    {
      "cell_type": "code",
      "source": [
        "plt.scatter(x ,y)\n",
        "plt.plot(x_vis, y_vis, '-r')\n",
        "plt.title('pendidikan')\n",
        "plt.xlabel('jumlah')\n",
        "plt.ylabel('triwulan')\n",
        "plt.xlim(0, 900) \n",
        "plt.ylim(0, 100) \n",
        "plt.grid(True)\n",
        "plt.show()"
      ],
      "metadata": {
        "id": "WZ2Zr6cPAfFy"
      },
      "execution_count": null,
      "outputs": []
    },
    {
      "cell_type": "code",
      "source": [
        "df['jumlah'].sum()"
      ],
      "metadata": {
        "id": "_0_9HJ4ZENEI"
      },
      "execution_count": null,
      "outputs": []
    },
    {
      "cell_type": "code",
      "source": [
        "df['triwulan'].sum()"
      ],
      "metadata": {
        "id": "KjRODaBXPiet"
      },
      "execution_count": null,
      "outputs": []
    },
    {
      "cell_type": "code",
      "source": [
        "fig = plt.figure()\n",
        "ax = fig.add_axes([0,0,1,1])\n",
        "indeks = ('jumlah', 'triwulan')\n",
        "jumlah = (13419, 1734)\n",
        "c = ['blue','red','yellow','purple','black']\n",
        "plt.title(\"\")\n",
        "plt.xlabel(\"jumlah\")\n",
        "plt.ylabel(\"nama_nama_kota\")\n",
        "plt.bar(indeks, jumlah, color = c)\n",
        "plt.grid(True)\n",
        "plt.show()"
      ],
      "metadata": {
        "id": "hNaL1gJWAzMa"
      },
      "execution_count": null,
      "outputs": []
    },
    {
      "cell_type": "code",
      "source": [
        "fig = plt.figure()\n",
        "ax = fig.add_axes([0,0,1,1])\n",
        "ax.axis('equal')\n",
        "indeks = (df['jumlah'])\n",
        "jumlah = (df['triwulan'])\n",
        "ax.pie(jumlah,labels=indeks,autopct='%1.2f%%') \n",
        "plt.show() \n"
      ],
      "metadata": {
        "id": "9bz51lApBSSH"
      },
      "execution_count": null,
      "outputs": []
    },
    {
      "cell_type": "code",
      "source": [
        "print(f'intercept : {model.intercept_}')\n",
        "print(f'slope : {model.coef_}')"
      ],
      "metadata": {
        "id": "6HHXMvblBalr"
      },
      "execution_count": null,
      "outputs": []
    },
    {
      "cell_type": "code",
      "source": [
        "#predeksi sample data\n",
        "jml_penduduk = np.array([2330, 5200, 8800, 3200, 1200]).reshape(-1, 1)\n",
        "jml_penduduk"
      ],
      "metadata": {
        "id": "qF1_6zghED9Y"
      },
      "execution_count": null,
      "outputs": []
    },
    {
      "cell_type": "code",
      "source": [
        "prediksi_indeks = model.predict(jml_penduduk)\n",
        "prediksi_indeks"
      ],
      "metadata": {
        "id": "AeLW3EdQEGPJ"
      },
      "execution_count": null,
      "outputs": []
    },
    {
      "cell_type": "code",
      "source": [
        "for penduduk, index in zip(jml_penduduk, prediksi_indeks):\n",
        "  print(f'Jumlah Penduduk : {penduduk} prediksi indeks : {index}')"
      ],
      "metadata": {
        "id": "y_ldA8V5EJcW"
      },
      "execution_count": null,
      "outputs": []
    },
    {
      "cell_type": "code",
      "source": [],
      "metadata": {
        "id": "L0Pj2mJ4Pmbu"
      },
      "execution_count": null,
      "outputs": []
    }
  ]
}